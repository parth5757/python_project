{
  "nbformat": 4,
  "nbformat_minor": 0,
  "metadata": {
    "colab": {
      "provenance": [],
      "authorship_tag": "ABX9TyO7HUkjwk97judd/7XXSerC",
      "include_colab_link": true
    },
    "kernelspec": {
      "name": "python3",
      "display_name": "Python 3"
    },
    "language_info": {
      "name": "python"
    }
  },
  "cells": [
    {
      "cell_type": "markdown",
      "metadata": {
        "id": "view-in-github",
        "colab_type": "text"
      },
      "source": [
        "<a href=\"https://colab.research.google.com/github/parth5757/pyhon_project/blob/main/numpy.ipynb\" target=\"_parent\"><img src=\"https://colab.research.google.com/assets/colab-badge.svg\" alt=\"Open In Colab\"/></a>"
      ]
    },
    {
      "cell_type": "code",
      "source": [
        "# Hi Parth"
      ],
      "metadata": {
        "id": "Ahoop49QEhEG"
      },
      "execution_count": null,
      "outputs": []
    },
    {
      "cell_type": "code",
      "source": [
        "import numpy as np"
      ],
      "metadata": {
        "id": "uxJypo2TEjJh"
      },
      "execution_count": 1,
      "outputs": []
    },
    {
      "cell_type": "code",
      "source": [
        "# myarr = np.array([3,6,32,7], np.int64) # For single use only it print 0, 1 = 3, 6\n",
        "myarr = np.array([[3,6,32,7]], np.int64)"
      ],
      "metadata": {
        "id": "UeTQlWNcEk7O"
      },
      "execution_count": 2,
      "outputs": []
    },
    {
      "cell_type": "code",
      "source": [
        "myarr[0, 1]"
      ],
      "metadata": {
        "colab": {
          "base_uri": "https://localhost:8080/"
        },
        "id": "xH41T1PfEscZ",
        "outputId": "e97a632f-07e3-460e-818a-a411af5dba8a"
      },
      "execution_count": 3,
      "outputs": [
        {
          "output_type": "execute_result",
          "data": {
            "text/plain": [
              "6"
            ]
          },
          "metadata": {},
          "execution_count": 3
        }
      ]
    },
    {
      "cell_type": "code",
      "source": [
        "myarr.dtype"
      ],
      "metadata": {
        "colab": {
          "base_uri": "https://localhost:8080/"
        },
        "id": "uKNOW10GEwCD",
        "outputId": "917e482c-ce2a-4963-fef0-7f7379ee0092"
      },
      "execution_count": 4,
      "outputs": [
        {
          "output_type": "execute_result",
          "data": {
            "text/plain": [
              "dtype('int64')"
            ]
          },
          "metadata": {},
          "execution_count": 4
        }
      ]
    },
    {
      "cell_type": "code",
      "source": [
        "myarr[0,1] = 45"
      ],
      "metadata": {
        "id": "kbt4-yDLEzN_"
      },
      "execution_count": 5,
      "outputs": []
    },
    {
      "cell_type": "code",
      "source": [
        "myarr"
      ],
      "metadata": {
        "colab": {
          "base_uri": "https://localhost:8080/"
        },
        "id": "OnJf5xnxE1kf",
        "outputId": "29b9fb03-6fd0-44f7-b24c-b2b6a727b780"
      },
      "execution_count": 6,
      "outputs": [
        {
          "output_type": "execute_result",
          "data": {
            "text/plain": [
              "array([[ 3, 45, 32,  7]])"
            ]
          },
          "metadata": {},
          "execution_count": 6
        }
      ]
    },
    {
      "cell_type": "markdown",
      "source": [
        "Array creation: Conversion from other python structure"
      ],
      "metadata": {
        "id": "PhqsEhJ-FAsm"
      }
    },
    {
      "cell_type": "code",
      "source": [
        "listarray = np.array([[1,2,3], [5,8,5], [0,5,1]])"
      ],
      "metadata": {
        "id": "afwjnxmtFSK1"
      },
      "execution_count": 7,
      "outputs": []
    },
    {
      "cell_type": "code",
      "source": [
        "listarray"
      ],
      "metadata": {
        "colab": {
          "base_uri": "https://localhost:8080/"
        },
        "id": "Ouk_yCIcFf7x",
        "outputId": "223024ad-fb7c-4e1c-9a3c-cd5e8a579402"
      },
      "execution_count": 8,
      "outputs": [
        {
          "output_type": "execute_result",
          "data": {
            "text/plain": [
              "array([[1, 2, 3],\n",
              "       [5, 8, 5],\n",
              "       [0, 5, 1]])"
            ]
          },
          "metadata": {},
          "execution_count": 8
        }
      ]
    },
    {
      "cell_type": "code",
      "source": [
        "listarray.dtype"
      ],
      "metadata": {
        "colab": {
          "base_uri": "https://localhost:8080/"
        },
        "id": "exzFt0_uFh3-",
        "outputId": "d4a801a2-10ec-46f1-e4a6-07108c040afb"
      },
      "execution_count": 9,
      "outputs": [
        {
          "output_type": "execute_result",
          "data": {
            "text/plain": [
              "dtype('int64')"
            ]
          },
          "metadata": {},
          "execution_count": 9
        }
      ]
    },
    {
      "cell_type": "code",
      "source": [
        " listarray.shape"
      ],
      "metadata": {
        "colab": {
          "base_uri": "https://localhost:8080/"
        },
        "id": "2hqn5ql4Fm6j",
        "outputId": "733a4363-2ac3-42a6-9a53-82245e564b59"
      },
      "execution_count": 10,
      "outputs": [
        {
          "output_type": "execute_result",
          "data": {
            "text/plain": [
              "(3, 3)"
            ]
          },
          "metadata": {},
          "execution_count": 10
        }
      ]
    },
    {
      "cell_type": "code",
      "source": [
        "listarray.size"
      ],
      "metadata": {
        "colab": {
          "base_uri": "https://localhost:8080/"
        },
        "id": "I1pBcWtZFuz0",
        "outputId": "dc43eca8-bcbc-4677-a174-b6686d416aae"
      },
      "execution_count": 11,
      "outputs": [
        {
          "output_type": "execute_result",
          "data": {
            "text/plain": [
              "9"
            ]
          },
          "metadata": {},
          "execution_count": 11
        }
      ]
    },
    {
      "cell_type": "code",
      "source": [
        "np.array({34,23,23})"
      ],
      "metadata": {
        "colab": {
          "base_uri": "https://localhost:8080/"
        },
        "id": "Qk7dy3amF0kX",
        "outputId": "1af09a16-bcc0-4bc7-87c7-7feb526c86a1"
      },
      "execution_count": 12,
      "outputs": [
        {
          "output_type": "execute_result",
          "data": {
            "text/plain": [
              "array({34, 23}, dtype=object)"
            ]
          },
          "metadata": {},
          "execution_count": 12
        }
      ]
    },
    {
      "cell_type": "code",
      "source": [
        "zeros = np.zeros((2,5))"
      ],
      "metadata": {
        "id": "C3ESG58uF37X"
      },
      "execution_count": 15,
      "outputs": []
    },
    {
      "cell_type": "code",
      "source": [
        "zeros"
      ],
      "metadata": {
        "colab": {
          "base_uri": "https://localhost:8080/"
        },
        "id": "BBcH25FyGAyl",
        "outputId": "5a732742-87c1-4080-d8b1-bbc149c40d76"
      },
      "execution_count": 16,
      "outputs": [
        {
          "output_type": "execute_result",
          "data": {
            "text/plain": [
              "array([[0., 0., 0., 0., 0.],\n",
              "       [0., 0., 0., 0., 0.]])"
            ]
          },
          "metadata": {},
          "execution_count": 16
        }
      ]
    },
    {
      "cell_type": "code",
      "source": [
        "rng = np.arange(15)"
      ],
      "metadata": {
        "id": "1D-8IzZFGCUB"
      },
      "execution_count": 17,
      "outputs": []
    },
    {
      "cell_type": "code",
      "source": [
        "rng"
      ],
      "metadata": {
        "colab": {
          "base_uri": "https://localhost:8080/"
        },
        "id": "YbKKTgTeGTFA",
        "outputId": "3d56f328-ad02-4641-8c67-945ac51a3cb0"
      },
      "execution_count": 18,
      "outputs": [
        {
          "output_type": "execute_result",
          "data": {
            "text/plain": [
              "array([ 0,  1,  2,  3,  4,  5,  6,  7,  8,  9, 10, 11, 12, 13, 14])"
            ]
          },
          "metadata": {},
          "execution_count": 18
        }
      ]
    },
    {
      "cell_type": "code",
      "source": [
        "lspace = np.linspace(1,15,54)"
      ],
      "metadata": {
        "id": "VZdkOOM_GUcL"
      },
      "execution_count": 19,
      "outputs": []
    },
    {
      "cell_type": "code",
      "source": [
        "lspace"
      ],
      "metadata": {
        "colab": {
          "base_uri": "https://localhost:8080/"
        },
        "id": "-MhZKdA6Gsh6",
        "outputId": "a26e9d65-f115-4b02-d940-fe1655eb5f50"
      },
      "execution_count": 20,
      "outputs": [
        {
          "output_type": "execute_result",
          "data": {
            "text/plain": [
              "array([ 1.        ,  1.26415094,  1.52830189,  1.79245283,  2.05660377,\n",
              "        2.32075472,  2.58490566,  2.8490566 ,  3.11320755,  3.37735849,\n",
              "        3.64150943,  3.90566038,  4.16981132,  4.43396226,  4.69811321,\n",
              "        4.96226415,  5.22641509,  5.49056604,  5.75471698,  6.01886792,\n",
              "        6.28301887,  6.54716981,  6.81132075,  7.0754717 ,  7.33962264,\n",
              "        7.60377358,  7.86792453,  8.13207547,  8.39622642,  8.66037736,\n",
              "        8.9245283 ,  9.18867925,  9.45283019,  9.71698113,  9.98113208,\n",
              "       10.24528302, 10.50943396, 10.77358491, 11.03773585, 11.30188679,\n",
              "       11.56603774, 11.83018868, 12.09433962, 12.35849057, 12.62264151,\n",
              "       12.88679245, 13.1509434 , 13.41509434, 13.67924528, 13.94339623,\n",
              "       14.20754717, 14.47169811, 14.73584906, 15.        ])"
            ]
          },
          "metadata": {},
          "execution_count": 20
        }
      ]
    },
    {
      "cell_type": "code",
      "source": [
        ""
      ],
      "metadata": {
        "id": "iZXWhdnrGuGC"
      },
      "execution_count": null,
      "outputs": []
    }
  ]
}